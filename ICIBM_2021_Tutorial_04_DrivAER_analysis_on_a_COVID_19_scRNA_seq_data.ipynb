{
  "nbformat": 4,
  "nbformat_minor": 0,
  "metadata": {
    "accelerator": "GPU",
    "colab": {
      "name": "ICIBM 2021 Tutorial 04 DrivAER analysis on a COVID-19 scRNA-seq data",
      "provenance": [],
      "collapsed_sections": [],
      "toc_visible": true,
      "machine_shape": "hm"
    },
    "kernelspec": {
      "display_name": "Python 3",
      "name": "python3"
    }
  },
  "cells": [
    {
      "cell_type": "markdown",
      "metadata": {
        "id": "dpc_NC28x3cb"
      },
      "source": [
        "This colab notebook shows an analysis of COVID-19 BALF dataset from Liao et al. The object of the analysis is to find TPs that differentiate Resident T_cells of two patients groups (moderate vs. severe)"
      ]
    },
    {
      "cell_type": "markdown",
      "metadata": {
        "id": "LSU5zeayNPd9"
      },
      "source": [
        "For this tutorial, we performed a pseudotime inference for the moderate and severe TRM cells in tSNE projection. [(Dai and Wang et al., Human Genetics 2021)](https://link.springer.com/article/10.1007%2Fs00439-021-02305-z)"
      ]
    },
    {
      "cell_type": "markdown",
      "metadata": {
        "id": "f_elN8NEPbUv"
      },
      "source": [
        "![A picture](https://drive.google.com/uc?id=1IYA_6pSU2b0PbzkPf4DLMXGOkBBOcwqM)"
      ]
    },
    {
      "cell_type": "markdown",
      "metadata": {
        "id": "nOEtksLkS3Tz"
      },
      "source": [
        "The folllowing packages are required to install to run the entire notebook."
      ]
    },
    {
      "cell_type": "code",
      "metadata": {
        "colab": {
          "base_uri": "https://localhost:8080/"
        },
        "id": "7NcGFx6TYo99",
        "outputId": "db9530dc-6726-43a5-8284-b5b913fa25a2"
      },
      "source": [
        "!pip install keras==2.3.1\n",
        "!pip install tensorflow==1.15.0\n",
        "!pip install h5py==2.10.0"
      ],
      "execution_count": null,
      "outputs": [
        {
          "output_type": "stream",
          "text": [
            "Requirement already satisfied: keras==2.3.1 in /usr/local/lib/python3.7/dist-packages (2.3.1)\n",
            "Requirement already satisfied: h5py in /usr/local/lib/python3.7/dist-packages (from keras==2.3.1) (2.10.0)\n",
            "Requirement already satisfied: six>=1.9.0 in /usr/local/lib/python3.7/dist-packages (from keras==2.3.1) (1.15.0)\n",
            "Requirement already satisfied: scipy>=0.14 in /usr/local/lib/python3.7/dist-packages (from keras==2.3.1) (1.4.1)\n",
            "Requirement already satisfied: pyyaml in /usr/local/lib/python3.7/dist-packages (from keras==2.3.1) (3.13)\n",
            "Requirement already satisfied: keras-preprocessing>=1.0.5 in /usr/local/lib/python3.7/dist-packages (from keras==2.3.1) (1.1.2)\n",
            "Requirement already satisfied: keras-applications>=1.0.6 in /usr/local/lib/python3.7/dist-packages (from keras==2.3.1) (1.0.8)\n",
            "Requirement already satisfied: numpy>=1.9.1 in /usr/local/lib/python3.7/dist-packages (from keras==2.3.1) (1.18.5)\n",
            "Requirement already satisfied: tensorflow==1.15.0 in /usr/local/lib/python3.7/dist-packages (1.15.0)\n",
            "Requirement already satisfied: absl-py>=0.7.0 in /usr/local/lib/python3.7/dist-packages (from tensorflow==1.15.0) (0.12.0)\n",
            "Requirement already satisfied: google-pasta>=0.1.6 in /usr/local/lib/python3.7/dist-packages (from tensorflow==1.15.0) (0.2.0)\n",
            "Requirement already satisfied: numpy<2.0,>=1.16.0 in /usr/local/lib/python3.7/dist-packages (from tensorflow==1.15.0) (1.18.5)\n",
            "Requirement already satisfied: gast==0.2.2 in /usr/local/lib/python3.7/dist-packages (from tensorflow==1.15.0) (0.2.2)\n",
            "Requirement already satisfied: tensorflow-estimator==1.15.1 in /usr/local/lib/python3.7/dist-packages (from tensorflow==1.15.0) (1.15.1)\n",
            "Requirement already satisfied: termcolor>=1.1.0 in /usr/local/lib/python3.7/dist-packages (from tensorflow==1.15.0) (1.1.0)\n",
            "Requirement already satisfied: keras-preprocessing>=1.0.5 in /usr/local/lib/python3.7/dist-packages (from tensorflow==1.15.0) (1.1.2)\n",
            "Requirement already satisfied: opt-einsum>=2.3.2 in /usr/local/lib/python3.7/dist-packages (from tensorflow==1.15.0) (3.3.0)\n",
            "Requirement already satisfied: protobuf>=3.6.1 in /usr/local/lib/python3.7/dist-packages (from tensorflow==1.15.0) (3.17.3)\n",
            "Requirement already satisfied: tensorboard<1.16.0,>=1.15.0 in /usr/local/lib/python3.7/dist-packages (from tensorflow==1.15.0) (1.15.0)\n",
            "Requirement already satisfied: keras-applications>=1.0.8 in /usr/local/lib/python3.7/dist-packages (from tensorflow==1.15.0) (1.0.8)\n",
            "Requirement already satisfied: grpcio>=1.8.6 in /usr/local/lib/python3.7/dist-packages (from tensorflow==1.15.0) (1.34.1)\n",
            "Requirement already satisfied: six>=1.10.0 in /usr/local/lib/python3.7/dist-packages (from tensorflow==1.15.0) (1.15.0)\n",
            "Requirement already satisfied: wheel>=0.26 in /usr/local/lib/python3.7/dist-packages (from tensorflow==1.15.0) (0.36.2)\n",
            "Requirement already satisfied: wrapt>=1.11.1 in /usr/local/lib/python3.7/dist-packages (from tensorflow==1.15.0) (1.12.1)\n",
            "Requirement already satisfied: astor>=0.6.0 in /usr/local/lib/python3.7/dist-packages (from tensorflow==1.15.0) (0.8.1)\n",
            "Requirement already satisfied: h5py in /usr/local/lib/python3.7/dist-packages (from keras-applications>=1.0.8->tensorflow==1.15.0) (2.10.0)\n",
            "Requirement already satisfied: werkzeug>=0.11.15 in /usr/local/lib/python3.7/dist-packages (from tensorboard<1.16.0,>=1.15.0->tensorflow==1.15.0) (1.0.1)\n",
            "Requirement already satisfied: markdown>=2.6.8 in /usr/local/lib/python3.7/dist-packages (from tensorboard<1.16.0,>=1.15.0->tensorflow==1.15.0) (3.3.4)\n",
            "Requirement already satisfied: setuptools>=41.0.0 in /usr/local/lib/python3.7/dist-packages (from tensorboard<1.16.0,>=1.15.0->tensorflow==1.15.0) (57.2.0)\n",
            "Requirement already satisfied: importlib-metadata in /usr/local/lib/python3.7/dist-packages (from markdown>=2.6.8->tensorboard<1.16.0,>=1.15.0->tensorflow==1.15.0) (4.6.1)\n",
            "Requirement already satisfied: typing-extensions>=3.6.4 in /usr/local/lib/python3.7/dist-packages (from importlib-metadata->markdown>=2.6.8->tensorboard<1.16.0,>=1.15.0->tensorflow==1.15.0) (3.7.4.3)\n",
            "Requirement already satisfied: zipp>=0.5 in /usr/local/lib/python3.7/dist-packages (from importlib-metadata->markdown>=2.6.8->tensorboard<1.16.0,>=1.15.0->tensorflow==1.15.0) (3.5.0)\n",
            "Requirement already satisfied: h5py==2.10.0 in /usr/local/lib/python3.7/dist-packages (2.10.0)\n",
            "Requirement already satisfied: numpy>=1.7 in /usr/local/lib/python3.7/dist-packages (from h5py==2.10.0) (1.18.5)\n",
            "Requirement already satisfied: six in /usr/local/lib/python3.7/dist-packages (from h5py==2.10.0) (1.15.0)\n"
          ],
          "name": "stdout"
        }
      ]
    },
    {
      "cell_type": "markdown",
      "metadata": {
        "id": "nEuSZyt7jjIb"
      },
      "source": [
        "Import required packages."
      ]
    },
    {
      "cell_type": "code",
      "metadata": {
        "id": "LfyyLebKM5US"
      },
      "source": [
        "%%capture\n",
        "import DrivAER as dv\n",
        "import numpy as np\n",
        "import pandas as pd\n",
        "import anndata as ad\n",
        "import matplotlib.pyplot as pl\n",
        "from matplotlib import rcParams\n",
        "import scanpy as sc\n",
        "import warnings\n",
        "sc.settings.verbosity = 1\n",
        "sc.logging.print_versions()\n",
        "warnings.filterwarnings(\"ignore\")"
      ],
      "execution_count": null,
      "outputs": []
    },
    {
      "cell_type": "markdown",
      "metadata": {
        "id": "90V8SLIBzDek"
      },
      "source": [
        "Download and load AnnData object."
      ]
    },
    {
      "cell_type": "code",
      "metadata": {
        "id": "n6mswZbnS8NY"
      },
      "source": [
        "import numpy as np\n",
        "import tensorflow as tf\n",
        "import random as python_random"
      ],
      "execution_count": null,
      "outputs": []
    },
    {
      "cell_type": "code",
      "metadata": {
        "colab": {
          "base_uri": "https://localhost:8080/"
        },
        "id": "ugidernNlpLy",
        "outputId": "d43787e6-7ae7-4eaa-8035-c410da806296"
      },
      "source": [
        "!pip install gdown"
      ],
      "execution_count": null,
      "outputs": [
        {
          "output_type": "stream",
          "text": [
            "Requirement already satisfied: gdown in /usr/local/lib/python3.7/dist-packages (3.6.4)\n",
            "Requirement already satisfied: six in /usr/local/lib/python3.7/dist-packages (from gdown) (1.15.0)\n",
            "Requirement already satisfied: requests in /usr/local/lib/python3.7/dist-packages (from gdown) (2.23.0)\n",
            "Requirement already satisfied: tqdm in /usr/local/lib/python3.7/dist-packages (from gdown) (4.41.1)\n",
            "Requirement already satisfied: chardet<4,>=3.0.2 in /usr/local/lib/python3.7/dist-packages (from requests->gdown) (3.0.4)\n",
            "Requirement already satisfied: urllib3!=1.25.0,!=1.25.1,<1.26,>=1.21.1 in /usr/local/lib/python3.7/dist-packages (from requests->gdown) (1.24.3)\n",
            "Requirement already satisfied: idna<3,>=2.5 in /usr/local/lib/python3.7/dist-packages (from requests->gdown) (2.10)\n",
            "Requirement already satisfied: certifi>=2017.4.17 in /usr/local/lib/python3.7/dist-packages (from requests->gdown) (2021.5.30)\n"
          ],
          "name": "stdout"
        }
      ]
    },
    {
      "cell_type": "code",
      "metadata": {
        "colab": {
          "base_uri": "https://localhost:8080/"
        },
        "id": "NcuZhuBhm1Sd",
        "outputId": "ee41bc05-c81f-494a-b750-e5ce78748ff1"
      },
      "source": [
        "!mkdir data\n",
        "!gdown https://drive.google.com/uc?id=1TAoRzMm79hoMG6C9aVBW_moCxdNGQ_IQ -O data/Resident_T_cell_expr.csv\n",
        "!gdown https://drive.google.com/uc?id=1Vm0ozbv6v1U-8GT1DEPAeauHRtgGFkvR -O data/Resident_T_cell_meta.csv"
      ],
      "execution_count": null,
      "outputs": [
        {
          "output_type": "stream",
          "text": [
            "mkdir: cannot create directory ‘data’: File exists\n",
            "Downloading...\n",
            "From: https://drive.google.com/uc?id=1TAoRzMm79hoMG6C9aVBW_moCxdNGQ_IQ\n",
            "To: /content/data/Resident_T_cell_expr.csv\n",
            "10.5MB [00:00, 162MB/s]\n",
            "Downloading...\n",
            "From: https://drive.google.com/uc?id=1Vm0ozbv6v1U-8GT1DEPAeauHRtgGFkvR\n",
            "To: /content/data/Resident_T_cell_meta.csv\n",
            "100% 330k/330k [00:00<00:00, 40.5MB/s]\n"
          ],
          "name": "stdout"
        }
      ]
    },
    {
      "cell_type": "code",
      "metadata": {
        "colab": {
          "base_uri": "https://localhost:8080/"
        },
        "id": "vL840m8YnxBG",
        "outputId": "d5b77765-5583-4377-90f4-4544ba178755"
      },
      "source": [
        "pd_meta = pd.read_csv(\"data/Resident_T_cell_meta.csv\", index_col=0)\n",
        "print(pd_meta.shape)"
      ],
      "execution_count": null,
      "outputs": [
        {
          "output_type": "stream",
          "text": [
            "(1101, 36)\n"
          ],
          "name": "stdout"
        }
      ]
    },
    {
      "cell_type": "code",
      "metadata": {
        "colab": {
          "base_uri": "https://localhost:8080/",
          "height": 411
        },
        "id": "kkUjwjcZaXGQ",
        "outputId": "d03fe85d-fea1-466b-99f6-319bb63486d4"
      },
      "source": [
        "pd_meta"
      ],
      "execution_count": null,
      "outputs": [
        {
          "output_type": "execute_result",
          "data": {
            "text/html": [
              "<div>\n",
              "<style scoped>\n",
              "    .dataframe tbody tr th:only-of-type {\n",
              "        vertical-align: middle;\n",
              "    }\n",
              "\n",
              "    .dataframe tbody tr th {\n",
              "        vertical-align: top;\n",
              "    }\n",
              "\n",
              "    .dataframe thead th {\n",
              "        text-align: right;\n",
              "    }\n",
              "</style>\n",
              "<table border=\"1\" class=\"dataframe\">\n",
              "  <thead>\n",
              "    <tr style=\"text-align: right;\">\n",
              "      <th></th>\n",
              "      <th>orig.ident</th>\n",
              "      <th>nCount_RNA</th>\n",
              "      <th>nFeature_RNA</th>\n",
              "      <th>percent.mito</th>\n",
              "      <th>ID</th>\n",
              "      <th>sample</th>\n",
              "      <th>sample_new</th>\n",
              "      <th>group</th>\n",
              "      <th>group1</th>\n",
              "      <th>disease</th>\n",
              "      <th>nCoV_mean</th>\n",
              "      <th>nFeature_RNA_low</th>\n",
              "      <th>nFeature_RNA_high</th>\n",
              "      <th>before</th>\n",
              "      <th>filter</th>\n",
              "      <th>integrated_snn_res.1.2</th>\n",
              "      <th>seurat_clusters</th>\n",
              "      <th>idt</th>\n",
              "      <th>hasnCoV</th>\n",
              "      <th>cluster</th>\n",
              "      <th>integrated_snn_res.0.8</th>\n",
              "      <th>celltype</th>\n",
              "      <th>nCount_SCT</th>\n",
              "      <th>nFeature_SCT</th>\n",
              "      <th>sig.score</th>\n",
              "      <th>original_group</th>\n",
              "      <th>cell_type</th>\n",
              "      <th>filter_outlier</th>\n",
              "      <th>RNA_snn_res.0.6</th>\n",
              "      <th>SCT_snn_res.0.6</th>\n",
              "      <th>percent.mt</th>\n",
              "      <th>naive.markers</th>\n",
              "      <th>effector.markers</th>\n",
              "      <th>naive.no.sell.markers</th>\n",
              "      <th>new_cell_type</th>\n",
              "      <th>slingshot_pseudotime</th>\n",
              "    </tr>\n",
              "  </thead>\n",
              "  <tbody>\n",
              "    <tr>\n",
              "      <th>AAACGGGGTGGAAAGA_5</th>\n",
              "      <td>C141</td>\n",
              "      <td>2969</td>\n",
              "      <td>1488</td>\n",
              "      <td>1.414618</td>\n",
              "      <td>AAACGGGGTGGAAAGA_5</td>\n",
              "      <td>C141</td>\n",
              "      <td>O1</td>\n",
              "      <td>M</td>\n",
              "      <td>O</td>\n",
              "      <td>Y</td>\n",
              "      <td>0.000000</td>\n",
              "      <td>200</td>\n",
              "      <td>6000</td>\n",
              "      <td>4233</td>\n",
              "      <td>True</td>\n",
              "      <td>9</td>\n",
              "      <td>0</td>\n",
              "      <td>9</td>\n",
              "      <td>N</td>\n",
              "      <td>9</td>\n",
              "      <td>5</td>\n",
              "      <td>CD8 T</td>\n",
              "      <td>3227</td>\n",
              "      <td>1478</td>\n",
              "      <td>0.494727</td>\n",
              "      <td>O</td>\n",
              "      <td>M</td>\n",
              "      <td>True</td>\n",
              "      <td>1</td>\n",
              "      <td>0</td>\n",
              "      <td>1.611404</td>\n",
              "      <td>0.000000</td>\n",
              "      <td>0.123954</td>\n",
              "      <td>0.000000</td>\n",
              "      <td>M_Resident_T</td>\n",
              "      <td>7.735994</td>\n",
              "    </tr>\n",
              "    <tr>\n",
              "      <th>AAAGATGTCAGGTTCA_5</th>\n",
              "      <td>C141</td>\n",
              "      <td>4244</td>\n",
              "      <td>1775</td>\n",
              "      <td>2.073516</td>\n",
              "      <td>AAAGATGTCAGGTTCA_5</td>\n",
              "      <td>C141</td>\n",
              "      <td>O1</td>\n",
              "      <td>M</td>\n",
              "      <td>O</td>\n",
              "      <td>Y</td>\n",
              "      <td>0.000000</td>\n",
              "      <td>200</td>\n",
              "      <td>6000</td>\n",
              "      <td>4233</td>\n",
              "      <td>True</td>\n",
              "      <td>6</td>\n",
              "      <td>1</td>\n",
              "      <td>6</td>\n",
              "      <td>N</td>\n",
              "      <td>6</td>\n",
              "      <td>5</td>\n",
              "      <td>CD8 T</td>\n",
              "      <td>3895</td>\n",
              "      <td>1771</td>\n",
              "      <td>0.189305</td>\n",
              "      <td>O</td>\n",
              "      <td>M</td>\n",
              "      <td>True</td>\n",
              "      <td>2</td>\n",
              "      <td>1</td>\n",
              "      <td>1.925546</td>\n",
              "      <td>0.025674</td>\n",
              "      <td>0.513479</td>\n",
              "      <td>0.025674</td>\n",
              "      <td>M_Resident_T</td>\n",
              "      <td>35.811455</td>\n",
              "    </tr>\n",
              "    <tr>\n",
              "      <th>AAAGCAACAGCGTCCA_5</th>\n",
              "      <td>C141</td>\n",
              "      <td>2425</td>\n",
              "      <td>1324</td>\n",
              "      <td>0.701031</td>\n",
              "      <td>AAAGCAACAGCGTCCA_5</td>\n",
              "      <td>C141</td>\n",
              "      <td>O1</td>\n",
              "      <td>M</td>\n",
              "      <td>O</td>\n",
              "      <td>Y</td>\n",
              "      <td>0.000000</td>\n",
              "      <td>200</td>\n",
              "      <td>6000</td>\n",
              "      <td>4233</td>\n",
              "      <td>True</td>\n",
              "      <td>9</td>\n",
              "      <td>1</td>\n",
              "      <td>9</td>\n",
              "      <td>N</td>\n",
              "      <td>9</td>\n",
              "      <td>1</td>\n",
              "      <td>CD8 T</td>\n",
              "      <td>3064</td>\n",
              "      <td>1330</td>\n",
              "      <td>0.343019</td>\n",
              "      <td>O</td>\n",
              "      <td>M</td>\n",
              "      <td>True</td>\n",
              "      <td>2</td>\n",
              "      <td>1</td>\n",
              "      <td>1.011749</td>\n",
              "      <td>0.000000</td>\n",
              "      <td>0.228460</td>\n",
              "      <td>0.000000</td>\n",
              "      <td>M_Resident_T</td>\n",
              "      <td>32.322671</td>\n",
              "    </tr>\n",
              "    <tr>\n",
              "      <th>AAATGCCCATGTCTCC_5</th>\n",
              "      <td>C141</td>\n",
              "      <td>4943</td>\n",
              "      <td>1883</td>\n",
              "      <td>1.881449</td>\n",
              "      <td>AAATGCCCATGTCTCC_5</td>\n",
              "      <td>C141</td>\n",
              "      <td>O1</td>\n",
              "      <td>M</td>\n",
              "      <td>O</td>\n",
              "      <td>Y</td>\n",
              "      <td>0.000000</td>\n",
              "      <td>200</td>\n",
              "      <td>6000</td>\n",
              "      <td>4233</td>\n",
              "      <td>True</td>\n",
              "      <td>9</td>\n",
              "      <td>2</td>\n",
              "      <td>9</td>\n",
              "      <td>N</td>\n",
              "      <td>9</td>\n",
              "      <td>1</td>\n",
              "      <td>CD8 T</td>\n",
              "      <td>4006</td>\n",
              "      <td>1866</td>\n",
              "      <td>0.266854</td>\n",
              "      <td>O</td>\n",
              "      <td>M</td>\n",
              "      <td>True</td>\n",
              "      <td>0</td>\n",
              "      <td>2</td>\n",
              "      <td>1.647529</td>\n",
              "      <td>0.000000</td>\n",
              "      <td>0.199700</td>\n",
              "      <td>0.000000</td>\n",
              "      <td>M_Resident_T</td>\n",
              "      <td>55.413494</td>\n",
              "    </tr>\n",
              "    <tr>\n",
              "      <th>AAATGCCGTGGGTATG_5</th>\n",
              "      <td>C141</td>\n",
              "      <td>4402</td>\n",
              "      <td>1948</td>\n",
              "      <td>1.681054</td>\n",
              "      <td>AAATGCCGTGGGTATG_5</td>\n",
              "      <td>C141</td>\n",
              "      <td>O1</td>\n",
              "      <td>M</td>\n",
              "      <td>O</td>\n",
              "      <td>Y</td>\n",
              "      <td>0.000000</td>\n",
              "      <td>200</td>\n",
              "      <td>6000</td>\n",
              "      <td>4233</td>\n",
              "      <td>True</td>\n",
              "      <td>9</td>\n",
              "      <td>0</td>\n",
              "      <td>9</td>\n",
              "      <td>N</td>\n",
              "      <td>9</td>\n",
              "      <td>5</td>\n",
              "      <td>CD8 T</td>\n",
              "      <td>3958</td>\n",
              "      <td>1944</td>\n",
              "      <td>0.436975</td>\n",
              "      <td>O</td>\n",
              "      <td>M</td>\n",
              "      <td>True</td>\n",
              "      <td>1</td>\n",
              "      <td>0</td>\n",
              "      <td>1.490652</td>\n",
              "      <td>0.000000</td>\n",
              "      <td>0.075796</td>\n",
              "      <td>0.000000</td>\n",
              "      <td>M_Resident_T</td>\n",
              "      <td>5.485369</td>\n",
              "    </tr>\n",
              "    <tr>\n",
              "      <th>...</th>\n",
              "      <td>...</td>\n",
              "      <td>...</td>\n",
              "      <td>...</td>\n",
              "      <td>...</td>\n",
              "      <td>...</td>\n",
              "      <td>...</td>\n",
              "      <td>...</td>\n",
              "      <td>...</td>\n",
              "      <td>...</td>\n",
              "      <td>...</td>\n",
              "      <td>...</td>\n",
              "      <td>...</td>\n",
              "      <td>...</td>\n",
              "      <td>...</td>\n",
              "      <td>...</td>\n",
              "      <td>...</td>\n",
              "      <td>...</td>\n",
              "      <td>...</td>\n",
              "      <td>...</td>\n",
              "      <td>...</td>\n",
              "      <td>...</td>\n",
              "      <td>...</td>\n",
              "      <td>...</td>\n",
              "      <td>...</td>\n",
              "      <td>...</td>\n",
              "      <td>...</td>\n",
              "      <td>...</td>\n",
              "      <td>...</td>\n",
              "      <td>...</td>\n",
              "      <td>...</td>\n",
              "      <td>...</td>\n",
              "      <td>...</td>\n",
              "      <td>...</td>\n",
              "      <td>...</td>\n",
              "      <td>...</td>\n",
              "      <td>...</td>\n",
              "    </tr>\n",
              "    <tr>\n",
              "      <th>TTCGAAGCATTATCTC_13</th>\n",
              "      <td>C152</td>\n",
              "      <td>3599</td>\n",
              "      <td>1685</td>\n",
              "      <td>4.890247</td>\n",
              "      <td>TTCGAAGCATTATCTC_13</td>\n",
              "      <td>C152</td>\n",
              "      <td>C5</td>\n",
              "      <td>S</td>\n",
              "      <td>S/C</td>\n",
              "      <td>Y</td>\n",
              "      <td>0.096482</td>\n",
              "      <td>200</td>\n",
              "      <td>6000</td>\n",
              "      <td>6962</td>\n",
              "      <td>True</td>\n",
              "      <td>9</td>\n",
              "      <td>4</td>\n",
              "      <td>9</td>\n",
              "      <td>N</td>\n",
              "      <td>9</td>\n",
              "      <td>1</td>\n",
              "      <td>CD8 T</td>\n",
              "      <td>3583</td>\n",
              "      <td>1670</td>\n",
              "      <td>0.287727</td>\n",
              "      <td>S/C</td>\n",
              "      <td>S</td>\n",
              "      <td>True</td>\n",
              "      <td>5</td>\n",
              "      <td>4</td>\n",
              "      <td>4.912085</td>\n",
              "      <td>0.000000</td>\n",
              "      <td>0.279096</td>\n",
              "      <td>0.000000</td>\n",
              "      <td>S_Resident_T</td>\n",
              "      <td>59.533945</td>\n",
              "    </tr>\n",
              "    <tr>\n",
              "      <th>TTGAACGGTAGGAGTC_13</th>\n",
              "      <td>C152</td>\n",
              "      <td>3011</td>\n",
              "      <td>1299</td>\n",
              "      <td>6.210561</td>\n",
              "      <td>TTGAACGGTAGGAGTC_13</td>\n",
              "      <td>C152</td>\n",
              "      <td>C5</td>\n",
              "      <td>S</td>\n",
              "      <td>S/C</td>\n",
              "      <td>Y</td>\n",
              "      <td>0.096482</td>\n",
              "      <td>200</td>\n",
              "      <td>6000</td>\n",
              "      <td>6962</td>\n",
              "      <td>True</td>\n",
              "      <td>9</td>\n",
              "      <td>4</td>\n",
              "      <td>9</td>\n",
              "      <td>N</td>\n",
              "      <td>9</td>\n",
              "      <td>2</td>\n",
              "      <td>CD8 T</td>\n",
              "      <td>3275</td>\n",
              "      <td>1286</td>\n",
              "      <td>0.251114</td>\n",
              "      <td>S/C</td>\n",
              "      <td>S</td>\n",
              "      <td>True</td>\n",
              "      <td>5</td>\n",
              "      <td>4</td>\n",
              "      <td>6.595420</td>\n",
              "      <td>0.030534</td>\n",
              "      <td>0.549618</td>\n",
              "      <td>0.000000</td>\n",
              "      <td>S_Resident_T</td>\n",
              "      <td>60.544734</td>\n",
              "    </tr>\n",
              "    <tr>\n",
              "      <th>TTGGCAAAGCTAGGCA_13</th>\n",
              "      <td>C152</td>\n",
              "      <td>3928</td>\n",
              "      <td>1555</td>\n",
              "      <td>2.698574</td>\n",
              "      <td>TTGGCAAAGCTAGGCA_13</td>\n",
              "      <td>C152</td>\n",
              "      <td>C5</td>\n",
              "      <td>S</td>\n",
              "      <td>S/C</td>\n",
              "      <td>Y</td>\n",
              "      <td>0.096482</td>\n",
              "      <td>200</td>\n",
              "      <td>6000</td>\n",
              "      <td>6962</td>\n",
              "      <td>True</td>\n",
              "      <td>9</td>\n",
              "      <td>4</td>\n",
              "      <td>9</td>\n",
              "      <td>N</td>\n",
              "      <td>9</td>\n",
              "      <td>1</td>\n",
              "      <td>CD8 T</td>\n",
              "      <td>3742</td>\n",
              "      <td>1550</td>\n",
              "      <td>0.290517</td>\n",
              "      <td>S/C</td>\n",
              "      <td>S</td>\n",
              "      <td>True</td>\n",
              "      <td>5</td>\n",
              "      <td>4</td>\n",
              "      <td>2.618920</td>\n",
              "      <td>0.000000</td>\n",
              "      <td>0.694816</td>\n",
              "      <td>0.000000</td>\n",
              "      <td>S_Resident_T</td>\n",
              "      <td>59.410402</td>\n",
              "    </tr>\n",
              "    <tr>\n",
              "      <th>TTTCCTCAGAGACTTA_13</th>\n",
              "      <td>C152</td>\n",
              "      <td>4028</td>\n",
              "      <td>1769</td>\n",
              "      <td>3.301887</td>\n",
              "      <td>TTTCCTCAGAGACTTA_13</td>\n",
              "      <td>C152</td>\n",
              "      <td>C5</td>\n",
              "      <td>S</td>\n",
              "      <td>S/C</td>\n",
              "      <td>Y</td>\n",
              "      <td>0.096482</td>\n",
              "      <td>200</td>\n",
              "      <td>6000</td>\n",
              "      <td>6962</td>\n",
              "      <td>True</td>\n",
              "      <td>9</td>\n",
              "      <td>4</td>\n",
              "      <td>9</td>\n",
              "      <td>N</td>\n",
              "      <td>9</td>\n",
              "      <td>1</td>\n",
              "      <td>CD8 T</td>\n",
              "      <td>3799</td>\n",
              "      <td>1764</td>\n",
              "      <td>0.230591</td>\n",
              "      <td>S/C</td>\n",
              "      <td>S</td>\n",
              "      <td>True</td>\n",
              "      <td>5</td>\n",
              "      <td>4</td>\n",
              "      <td>3.106081</td>\n",
              "      <td>0.026323</td>\n",
              "      <td>0.473809</td>\n",
              "      <td>0.026323</td>\n",
              "      <td>S_Resident_T</td>\n",
              "      <td>60.544734</td>\n",
              "    </tr>\n",
              "    <tr>\n",
              "      <th>TTTGCGCTCTAACCGA_13</th>\n",
              "      <td>C152</td>\n",
              "      <td>4789</td>\n",
              "      <td>1978</td>\n",
              "      <td>2.276049</td>\n",
              "      <td>TTTGCGCTCTAACCGA_13</td>\n",
              "      <td>C152</td>\n",
              "      <td>C5</td>\n",
              "      <td>S</td>\n",
              "      <td>S/C</td>\n",
              "      <td>Y</td>\n",
              "      <td>0.096482</td>\n",
              "      <td>200</td>\n",
              "      <td>6000</td>\n",
              "      <td>6962</td>\n",
              "      <td>True</td>\n",
              "      <td>9</td>\n",
              "      <td>4</td>\n",
              "      <td>9</td>\n",
              "      <td>N</td>\n",
              "      <td>9</td>\n",
              "      <td>1</td>\n",
              "      <td>CD8 T</td>\n",
              "      <td>4017</td>\n",
              "      <td>1960</td>\n",
              "      <td>0.235336</td>\n",
              "      <td>S/C</td>\n",
              "      <td>S</td>\n",
              "      <td>True</td>\n",
              "      <td>5</td>\n",
              "      <td>4</td>\n",
              "      <td>2.016430</td>\n",
              "      <td>0.000000</td>\n",
              "      <td>0.522778</td>\n",
              "      <td>0.000000</td>\n",
              "      <td>S_Resident_T</td>\n",
              "      <td>59.650483</td>\n",
              "    </tr>\n",
              "  </tbody>\n",
              "</table>\n",
              "<p>1101 rows × 36 columns</p>\n",
              "</div>"
            ],
            "text/plain": [
              "                    orig.ident  nCount_RNA  ...  new_cell_type  slingshot_pseudotime\n",
              "AAACGGGGTGGAAAGA_5        C141        2969  ...   M_Resident_T              7.735994\n",
              "AAAGATGTCAGGTTCA_5        C141        4244  ...   M_Resident_T             35.811455\n",
              "AAAGCAACAGCGTCCA_5        C141        2425  ...   M_Resident_T             32.322671\n",
              "AAATGCCCATGTCTCC_5        C141        4943  ...   M_Resident_T             55.413494\n",
              "AAATGCCGTGGGTATG_5        C141        4402  ...   M_Resident_T              5.485369\n",
              "...                        ...         ...  ...            ...                   ...\n",
              "TTCGAAGCATTATCTC_13       C152        3599  ...   S_Resident_T             59.533945\n",
              "TTGAACGGTAGGAGTC_13       C152        3011  ...   S_Resident_T             60.544734\n",
              "TTGGCAAAGCTAGGCA_13       C152        3928  ...   S_Resident_T             59.410402\n",
              "TTTCCTCAGAGACTTA_13       C152        4028  ...   S_Resident_T             60.544734\n",
              "TTTGCGCTCTAACCGA_13       C152        4789  ...   S_Resident_T             59.650483\n",
              "\n",
              "[1101 rows x 36 columns]"
            ]
          },
          "metadata": {
            "tags": []
          },
          "execution_count": 27
        }
      ]
    },
    {
      "cell_type": "code",
      "metadata": {
        "colab": {
          "base_uri": "https://localhost:8080/"
        },
        "id": "ytIKyya7v8Te",
        "outputId": "9d0685fc-34f8-42bd-944a-3cf89dbddb65"
      },
      "source": [
        "pd_meta.slingshot_pseudotime.describe()"
      ],
      "execution_count": null,
      "outputs": [
        {
          "output_type": "execute_result",
          "data": {
            "text/plain": [
              "count    1101.000000\n",
              "mean       29.898528\n",
              "std        16.408466\n",
              "min         0.000000\n",
              "25%        15.798873\n",
              "50%        29.546749\n",
              "75%        43.095121\n",
              "max        60.544734\n",
              "Name: slingshot_pseudotime, dtype: float64"
            ]
          },
          "metadata": {
            "tags": []
          },
          "execution_count": 28
        }
      ]
    },
    {
      "cell_type": "code",
      "metadata": {
        "colab": {
          "base_uri": "https://localhost:8080/",
          "height": 281
        },
        "id": "ZiIeMkviwR0n",
        "outputId": "64711c38-afef-4a64-f2a7-6364f215cdd0"
      },
      "source": [
        "pd_meta.slingshot_pseudotime.hist()"
      ],
      "execution_count": null,
      "outputs": [
        {
          "output_type": "execute_result",
          "data": {
            "text/plain": [
              "<matplotlib.axes._subplots.AxesSubplot at 0x7fee8ec41910>"
            ]
          },
          "metadata": {
            "tags": []
          },
          "execution_count": 29
        },
        {
          "output_type": "display_data",
          "data": {
            "image/png": "[encoded data removed]",
            "text/plain": [
              "<Figure size 432x288 with 1 Axes>"
            ]
          },
          "metadata": {
            "tags": [],
            "needs_background": "light"
          }
        }
      ]
    },
    {
      "cell_type": "code",
      "metadata": {
        "id": "E_i0Z9A1U01D"
      },
      "source": [
        "ad = sc.read_csv(\"data/Resident_T_cell_expr.csv\").T\n",
        "ad.obs = pd_meta"
      ],
      "execution_count": null,
      "outputs": []
    },
    {
      "cell_type": "code",
      "metadata": {
        "id": "6n_7hX2INdk6"
      },
      "source": [
        "ad = ad[~ad.obs.slingshot_pseudotime.isna(),:]"
      ],
      "execution_count": null,
      "outputs": []
    },
    {
      "cell_type": "code",
      "metadata": {
        "colab": {
          "base_uri": "https://localhost:8080/"
        },
        "id": "H25v0nFlN0vf",
        "outputId": "11c6f734-47a9-42ef-cbf5-55a3892efe90"
      },
      "source": [
        "print(ad.shape, ad.X.mean(), ad.X.max())"
      ],
      "execution_count": null,
      "outputs": [
        {
          "output_type": "stream",
          "text": [
            "(1101, 4697) 0.73504066 599.0\n"
          ],
          "name": "stdout"
        }
      ]
    },
    {
      "cell_type": "code",
      "metadata": {
        "colab": {
          "base_uri": "https://localhost:8080/"
        },
        "id": "9hiwyzgGWj3y",
        "outputId": "c5e9bec2-309a-4312-f4fe-f430ce309746"
      },
      "source": [
        "# sc.pp.filter_genes_dispersion(ad)\n",
        "mini = ad.obs.slingshot_pseudotime.min()\n",
        "maxi = ad.obs.slingshot_pseudotime.max()\n",
        "print(mini, maxi)\n",
        "ad.obs.slingshot_pseudotime = (ad.obs.slingshot_pseudotime-mini) / (maxi-mini)\n",
        "print(ad.obs.slingshot_pseudotime)"
      ],
      "execution_count": null,
      "outputs": [
        {
          "output_type": "stream",
          "text": [
            "0.0 60.5447337799648\n",
            "AAACGGGGTGGAAAGA_5     0.127773\n",
            "AAAGATGTCAGGTTCA_5     0.591488\n",
            "AAAGCAACAGCGTCCA_5     0.533864\n",
            "AAATGCCCATGTCTCC_5     0.915249\n",
            "AAATGCCGTGGGTATG_5     0.090600\n",
            "                         ...   \n",
            "TTCGAAGCATTATCTC_13    0.983305\n",
            "TTGAACGGTAGGAGTC_13    1.000000\n",
            "TTGGCAAAGCTAGGCA_13    0.981265\n",
            "TTTCCTCAGAGACTTA_13    1.000000\n",
            "TTTGCGCTCTAACCGA_13    0.985230\n",
            "Name: slingshot_pseudotime, Length: 1101, dtype: float64\n"
          ],
          "name": "stdout"
        }
      ]
    },
    {
      "cell_type": "code",
      "metadata": {
        "id": "FT6rbO8Y06IR",
        "colab": {
          "base_uri": "https://localhost:8080/"
        },
        "outputId": "bad53b12-9151-4ac3-ea33-69780b026a87"
      },
      "source": [
        "np.random.seed(520)\n",
        "python_random.seed(520)\n",
        "tf.random.set_random_seed(520)\n",
        "\n",
        "hm_human = dv.get_anno(filename=\"hallmark.gmt\", filetype=\"gmt\", conv_mouse=False)\n",
        "res = dv.calc_relevance(count=ad, pheno=ad.obs.slingshot_pseudotime, tf_targets = hm_human, min_targets=10, epochs=100)"
      ],
      "execution_count": null,
      "outputs": [
        {
          "output_type": "stream",
          "text": [
            "1 / 45\n",
            "dca: Successfully preprocessed 78 genes and 1101 cells.\n",
            "dca: Calculating low dimensional representations...\n",
            "2 / 45\n",
            "dca: Successfully preprocessed 67 genes and 1101 cells.\n",
            "dca: Calculating low dimensional representations...\n",
            "3 / 45\n",
            "dca: Successfully preprocessed 26 genes and 1101 cells.\n",
            "dca: Calculating low dimensional representations...\n",
            "4 / 45\n",
            "dca: Successfully preprocessed 84 genes and 1101 cells.\n",
            "dca: Calculating low dimensional representations...\n",
            "5 / 45\n",
            "dca: Successfully preprocessed 10 genes and 1101 cells.\n",
            "dca: Calculating low dimensional representations...\n",
            "6 / 45\n",
            "dca: Successfully preprocessed 23 genes and 1101 cells.\n",
            "dca: Calculating low dimensional representations...\n",
            "7 / 45\n",
            "dca: Successfully preprocessed 41 genes and 1101 cells.\n",
            "dca: Calculating low dimensional representations...\n",
            "8 / 45\n",
            "dca: Successfully preprocessed 87 genes and 1101 cells.\n",
            "dca: Calculating low dimensional representations...\n",
            "9 / 45\n",
            "dca: Successfully preprocessed 87 genes and 1101 cells.\n",
            "dca: Calculating low dimensional representations...\n",
            "10 / 45\n",
            "dca: Successfully preprocessed 77 genes and 1101 cells.\n",
            "dca: Calculating low dimensional representations...\n",
            "11 / 45\n",
            "dca: Successfully preprocessed 91 genes and 1101 cells.\n",
            "dca: Calculating low dimensional representations...\n",
            "12 / 45\n",
            "dca: Successfully preprocessed 43 genes and 1101 cells.\n",
            "dca: Calculating low dimensional representations...\n",
            "13 / 45\n",
            "dca: Successfully preprocessed 49 genes and 1101 cells.\n",
            "dca: Calculating low dimensional representations...\n",
            "14 / 45\n",
            "dca: Successfully preprocessed 43 genes and 1101 cells.\n",
            "dca: Calculating low dimensional representations...\n",
            "15 / 45\n",
            "dca: Successfully preprocessed 29 genes and 1101 cells.\n",
            "dca: Calculating low dimensional representations...\n",
            "16 / 45\n",
            "dca: Successfully preprocessed 61 genes and 1101 cells.\n",
            "dca: Calculating low dimensional representations...\n",
            "17 / 45\n",
            "dca: Successfully preprocessed 80 genes and 1101 cells.\n",
            "dca: Calculating low dimensional representations...\n",
            "18 / 45\n",
            "dca: Successfully preprocessed 142 genes and 1101 cells.\n",
            "dca: Calculating low dimensional representations...\n",
            "19 / 45\n",
            "dca: Successfully preprocessed 37 genes and 1101 cells.\n",
            "dca: Calculating low dimensional representations...\n",
            "20 / 45\n",
            "dca: Successfully preprocessed 81 genes and 1101 cells.\n",
            "dca: Calculating low dimensional representations...\n",
            "21 / 45\n",
            "dca: Successfully preprocessed 70 genes and 1101 cells.\n",
            "dca: Calculating low dimensional representations...\n",
            "22 / 45\n",
            "dca: Successfully preprocessed 62 genes and 1101 cells.\n",
            "dca: Calculating low dimensional representations...\n",
            "23 / 45\n",
            "dca: Successfully preprocessed 113 genes and 1101 cells.\n",
            "dca: Calculating low dimensional representations...\n",
            "24 / 45\n",
            "dca: Successfully preprocessed 83 genes and 1101 cells.\n",
            "dca: Calculating low dimensional representations...\n",
            "25 / 45\n",
            "dca: Successfully preprocessed 165 genes and 1101 cells.\n",
            "dca: Calculating low dimensional representations...\n",
            "26 / 45\n",
            "dca: Successfully preprocessed 21 genes and 1101 cells.\n",
            "dca: Calculating low dimensional representations...\n",
            "27 / 45\n",
            "dca: Successfully preprocessed 23 genes and 1101 cells.\n",
            "dca: Calculating low dimensional representations...\n",
            "28 / 45\n",
            "dca: Successfully preprocessed 64 genes and 1101 cells.\n",
            "dca: Calculating low dimensional representations...\n",
            "29 / 45\n",
            "dca: Successfully preprocessed 46 genes and 1101 cells.\n",
            "dca: Calculating low dimensional representations...\n",
            "30 / 45\n",
            "dca: Successfully preprocessed 66 genes and 1101 cells.\n",
            "dca: Calculating low dimensional representations...\n",
            "31 / 45\n",
            "dca: Successfully preprocessed 155 genes and 1101 cells.\n",
            "dca: Calculating low dimensional representations...\n",
            "32 / 45\n",
            "dca: Successfully preprocessed 56 genes and 1101 cells.\n",
            "dca: Calculating low dimensional representations...\n",
            "33 / 45\n",
            "dca: Successfully preprocessed 31 genes and 1101 cells.\n",
            "dca: Calculating low dimensional representations...\n",
            "34 / 45\n",
            "dca: Successfully preprocessed 87 genes and 1101 cells.\n",
            "dca: Calculating low dimensional representations...\n",
            "35 / 45\n",
            "dca: Successfully preprocessed 66 genes and 1101 cells.\n",
            "dca: Calculating low dimensional representations...\n",
            "36 / 45\n",
            "dca: Successfully preprocessed 38 genes and 1101 cells.\n",
            "dca: Calculating low dimensional representations...\n",
            "37 / 45\n",
            "dca: Successfully preprocessed 72 genes and 1101 cells.\n",
            "dca: Calculating low dimensional representations...\n",
            "38 / 45\n",
            "dca: Successfully preprocessed 23 genes and 1101 cells.\n",
            "dca: Calculating low dimensional representations...\n",
            "39 / 45\n",
            "dca: Successfully preprocessed 78 genes and 1101 cells.\n",
            "dca: Calculating low dimensional representations...\n",
            "40 / 45\n",
            "dca: Successfully preprocessed 19 genes and 1101 cells.\n",
            "dca: Calculating low dimensional representations...\n",
            "41 / 45\n",
            "dca: Successfully preprocessed 39 genes and 1101 cells.\n",
            "dca: Calculating low dimensional representations...\n",
            "42 / 45\n",
            "dca: Successfully preprocessed 111 genes and 1101 cells.\n",
            "dca: Calculating low dimensional representations...\n",
            "43 / 45\n",
            "dca: Successfully preprocessed 17 genes and 1101 cells.\n",
            "dca: Calculating low dimensional representations...\n",
            "44 / 45\n",
            "dca: Successfully preprocessed 46 genes and 1101 cells.\n",
            "dca: Calculating low dimensional representations...\n",
            "45 / 45\n",
            "dca: Successfully preprocessed 13 genes and 1101 cells.\n",
            "dca: Calculating low dimensional representations...\n"
          ],
          "name": "stdout"
        }
      ]
    },
    {
      "cell_type": "code",
      "metadata": {
        "id": "bkdy-xkJTeDO"
      },
      "source": [
        ""
      ],
      "execution_count": null,
      "outputs": []
    },
    {
      "cell_type": "markdown",
      "metadata": {
        "id": "2QssHAOKy5kj"
      },
      "source": [
        "Now, we can plot the relevance scores. Interferon related gene sets are the the most relevant gene sets for T cells after interferon stimulation."
      ]
    },
    {
      "cell_type": "code",
      "metadata": {
        "id": "VOcjXHHN1RHM"
      },
      "source": [
        "import matplotlib.pyplot as plt\n",
        "import seaborn as sns\n",
        "def rank_plot_1(result, save=False, path='./',number=10):\n",
        "    score = pd.DataFrame({'Signature': result[2], 'Relevance Score': result[1]})\n",
        "    score = score.sort_values('Relevance Score',ascending=False)\n",
        "    new_df = score.head(number)\n",
        "    plt.figure(figsize=(10,10))\n",
        "    ax = sns.barplot(x=\"Relevance Score\", y=\"Signature\", data=new_df, palette=sns.color_palette(\"Blues_r\",10))\n",
        "    plt.xticks(rotation='horizontal',fontsize=20)\n",
        "    plt.yticks(fontsize=26)\n",
        "    plt.xlabel('Relevance Score', fontsize=22)\n",
        "    ax.grid(b=True, which='major', color='#d3d3d3', linewidth=0.5)\n",
        "    fig = plt.gcf()\n",
        "    plt.show()\n",
        "    if save:\n",
        "        fig.savefig(path + 'rank.svg', bbox_inches='tight')\n",
        "    top_TF = score.head(n=5)['Signature'].tolist()\n",
        "    print(\"Top_TF\",\":\",top_TF)"
      ],
      "execution_count": null,
      "outputs": []
    },
    {
      "cell_type": "markdown",
      "metadata": {
        "id": "Fis4MVrGk7Jn"
      },
      "source": [
        ""
      ]
    },
    {
      "cell_type": "code",
      "metadata": {
        "id": "g78-85iim8xC",
        "colab": {
          "base_uri": "https://localhost:8080/",
          "height": 657
        },
        "outputId": "e5a2bf97-0c80-48a6-883a-12c8da393fd3"
      },
      "source": [
        "dv.rank_plot(result=res)"
      ],
      "execution_count": null,
      "outputs": [
        {
          "output_type": "display_data",
          "data": {
            "image/png": "[encoded data removed]",
            "text/plain": [
              "<Figure size 720x720 with 1 Axes>"
            ]
          },
          "metadata": {
            "tags": [],
            "needs_background": "light"
          }
        },
        {
          "output_type": "stream",
          "text": [
            "Top_TF : ['INTERFERON_GAMMA_RESPONSE', 'ALLOGRAFT_REJECTION', 'APOPTOSIS', 'HYPOXIA', 'COMPLEMENT']\n",
            "Worse_TF : ['MYOGENESIS', 'PEROXISOME', 'SPERMATOGENESIS', 'TGF_BETA_SIGNALING', 'BILE_ACID_METABOLISM']\n"
          ],
          "name": "stdout"
        }
      ]
    },
    {
      "cell_type": "code",
      "metadata": {
        "id": "zjyt7T5kqHbv",
        "colab": {
          "base_uri": "https://localhost:8080/",
          "height": 641
        },
        "outputId": "0d6a570d-72ca-4f55-e0b4-5de9d59ffa8d"
      },
      "source": [
        "rank_plot_1(result=res,number=5)"
      ],
      "execution_count": null,
      "outputs": [
        {
          "output_type": "display_data",
          "data": {
            "image/png": "[encoded data removed]",
            "text/plain": [
              "<Figure size 720x720 with 1 Axes>"
            ]
          },
          "metadata": {
            "tags": [],
            "needs_background": "light"
          }
        },
        {
          "output_type": "stream",
          "text": [
            "Top_TF : ['INTERFERON_GAMMA_RESPONSE', 'ALLOGRAFT_REJECTION', 'APOPTOSIS', 'HYPOXIA', 'COMPLEMENT']\n"
          ],
          "name": "stdout"
        }
      ]
    },
    {
      "cell_type": "markdown",
      "metadata": {
        "id": "OHd0PyB01XJx"
      },
      "source": [
        "Next, we visualize the data manifold of the HALLMARK_INTERFERON_GAMMA_RESPONSE gene set. We can see a clear separation between stimulated and unstimulated cells."
      ]
    },
    {
      "cell_type": "code",
      "metadata": {
        "id": "33K6JL-qgKAd",
        "colab": {
          "base_uri": "https://localhost:8080/",
          "height": 281
        },
        "outputId": "d857aec2-430f-4f64-d490-65ec5746b5a8"
      },
      "source": [
        "df_pathway = pd.DataFrame({\"TP\" : res[2], \"RS\" : res[1]}).sort_values(\"RS\", ascending=False)\n",
        "df_pathway.to_csv(\"Resident_T-pathway.csv\")\n",
        "df_pathway.RS.hist()"
      ],
      "execution_count": null,
      "outputs": [
        {
          "output_type": "execute_result",
          "data": {
            "text/plain": [
              "<matplotlib.axes._subplots.AxesSubplot at 0x7fee82d6fe50>"
            ]
          },
          "metadata": {
            "tags": []
          },
          "execution_count": 38
        },
        {
          "output_type": "display_data",
          "data": {
            "image/png": "[encoded data removed]",
            "text/plain": [
              "<Figure size 432x288 with 1 Axes>"
            ]
          },
          "metadata": {
            "tags": [],
            "needs_background": "light"
          }
        }
      ]
    },
    {
      "cell_type": "code",
      "metadata": {
        "id": "7wKgBFS7SIbF",
        "colab": {
          "base_uri": "https://localhost:8080/"
        },
        "outputId": "8805df45-b336-4e9d-9246-dd9c5b6d37b6"
      },
      "source": [
        "np.random.seed(520)\n",
        "python_random.seed(520)\n",
        "tf.random.set_random_seed(520)\n",
        "\n",
        "ad = sc.read_csv(\"data/Resident_T_cell_expr.csv\").T\n",
        "ad.obs = pd_meta\n",
        "ad = ad[~ad.obs.slingshot_pseudotime.isna(),:]\n",
        "mini = ad.obs.slingshot_pseudotime.min()\n",
        "maxi = ad.obs.slingshot_pseudotime.max()\n",
        "print(mini, maxi)\n",
        "ad.obs.slingshot_pseudotime = (ad.obs.slingshot_pseudotime-mini) / (maxi-mini)\n",
        "print(ad.obs.slingshot_pseudotime)\n",
        "\n",
        "tf_human = dv.get_anno(filename=\"trrust_human.tsv\", filetype=\"tsv\", conv_mouse=False)\n",
        "print(tf_human)\n",
        "res_tf = dv.calc_relevance(count=ad, pheno=ad.obs.slingshot_pseudotime, tf_targets = tf_human, min_targets=10, epochs = 100)\n",
        "ad"
      ],
      "execution_count": null,
      "outputs": [
        {
          "output_type": "stream",
          "text": [
            "0.0 60.5447337799648\n",
            "AAACGGGGTGGAAAGA_5     0.127773\n",
            "AAAGATGTCAGGTTCA_5     0.591488\n",
            "AAAGCAACAGCGTCCA_5     0.533864\n",
            "AAATGCCCATGTCTCC_5     0.915249\n",
            "AAATGCCGTGGGTATG_5     0.090600\n",
            "                         ...   \n",
            "TTCGAAGCATTATCTC_13    0.983305\n",
            "TTGAACGGTAGGAGTC_13    1.000000\n",
            "TTGGCAAAGCTAGGCA_13    0.981265\n",
            "TTTCCTCAGAGACTTA_13    1.000000\n",
            "TTTGCGCTCTAACCGA_13    0.985230\n",
            "Name: slingshot_pseudotime, Length: 1101, dtype: float64\n",
            "TF\n",
            "AATF                         [BAX, CDKN1A, KLK3, MYC, TP53]\n",
            "ABL1      [BAX, BCL2, BCL6, CCND2, CDKN1A, CSF1, FOXO3, ...\n",
            "AES                                     [EPHA3, LEF1, RND3]\n",
            "AHR       [ABCG2, AHRR, ARNT, BRCA1, CA9, CCND1, CCNG2, ...\n",
            "AIP                         [AHR, GREB1, NFKB2, RSF1, TFF1]\n",
            "                                ...                        \n",
            "ZNF410                                               [MMP1]\n",
            "ZNF423                                              [BRCA1]\n",
            "ZNF444                                             [SCARF1]\n",
            "ZNF76                              [CDKN1A, PCYT1A, TALDO1]\n",
            "ZNRD1                                         [ABCB1, BCL2]\n",
            "Name: Target, Length: 795, dtype: object\n",
            "1 / 45\n",
            "dca: Successfully preprocessed 27 genes and 1101 cells.\n",
            "dca: Calculating low dimensional representations...\n",
            "2 / 45\n",
            "dca: Successfully preprocessed 11 genes and 1101 cells.\n",
            "dca: Calculating low dimensional representations...\n",
            "3 / 45\n",
            "dca: Successfully preprocessed 10 genes and 1101 cells.\n",
            "dca: Calculating low dimensional representations...\n",
            "4 / 45\n",
            "dca: Successfully preprocessed 10 genes and 1101 cells.\n",
            "dca: Calculating low dimensional representations...\n",
            "5 / 45\n",
            "dca: Successfully preprocessed 19 genes and 1101 cells.\n",
            "dca: Calculating low dimensional representations...\n",
            "6 / 45\n",
            "dca: Successfully preprocessed 14 genes and 1101 cells.\n",
            "dca: Calculating low dimensional representations...\n",
            "7 / 45\n",
            "dca: Successfully preprocessed 17 genes and 1101 cells.\n",
            "dca: Calculating low dimensional representations...\n",
            "8 / 45\n",
            "dca: Successfully preprocessed 21 genes and 1101 cells.\n",
            "dca: Calculating low dimensional representations...\n",
            "9 / 45\n",
            "dca: Successfully preprocessed 10 genes and 1101 cells.\n",
            "dca: Calculating low dimensional representations...\n",
            "10 / 45\n",
            "dca: Successfully preprocessed 11 genes and 1101 cells.\n",
            "dca: Calculating low dimensional representations...\n",
            "11 / 45\n",
            "dca: Successfully preprocessed 38 genes and 1101 cells.\n",
            "dca: Calculating low dimensional representations...\n",
            "12 / 45\n",
            "dca: Successfully preprocessed 22 genes and 1101 cells.\n",
            "dca: Calculating low dimensional representations...\n",
            "13 / 45\n",
            "dca: Successfully preprocessed 15 genes and 1101 cells.\n",
            "dca: Calculating low dimensional representations...\n",
            "14 / 45\n",
            "dca: Successfully preprocessed 23 genes and 1101 cells.\n",
            "dca: Calculating low dimensional representations...\n",
            "15 / 45\n",
            "dca: Successfully preprocessed 26 genes and 1101 cells.\n",
            "dca: Calculating low dimensional representations...\n",
            "16 / 45\n",
            "dca: Successfully preprocessed 10 genes and 1101 cells.\n",
            "dca: Calculating low dimensional representations...\n",
            "17 / 45\n",
            "dca: Successfully preprocessed 21 genes and 1101 cells.\n",
            "dca: Calculating low dimensional representations...\n",
            "18 / 45\n",
            "dca: Successfully preprocessed 25 genes and 1101 cells.\n",
            "dca: Calculating low dimensional representations...\n",
            "19 / 45\n",
            "dca: Successfully preprocessed 14 genes and 1101 cells.\n",
            "dca: Calculating low dimensional representations...\n",
            "20 / 45\n",
            "dca: Successfully preprocessed 21 genes and 1101 cells.\n",
            "dca: Calculating low dimensional representations...\n",
            "21 / 45\n",
            "dca: Successfully preprocessed 33 genes and 1101 cells.\n",
            "dca: Calculating low dimensional representations...\n",
            "22 / 45\n",
            "dca: Successfully preprocessed 45 genes and 1101 cells.\n",
            "dca: Calculating low dimensional representations...\n",
            "23 / 45\n",
            "dca: Successfully preprocessed 19 genes and 1101 cells.\n",
            "dca: Calculating low dimensional representations...\n",
            "24 / 45\n",
            "dca: Successfully preprocessed 95 genes and 1101 cells.\n",
            "dca: Calculating low dimensional representations...\n",
            "25 / 45\n",
            "dca: Successfully preprocessed 13 genes and 1101 cells.\n",
            "dca: Calculating low dimensional representations...\n",
            "26 / 45\n",
            "dca: Successfully preprocessed 13 genes and 1101 cells.\n",
            "dca: Calculating low dimensional representations...\n",
            "27 / 45\n",
            "dca: Successfully preprocessed 92 genes and 1101 cells.\n",
            "dca: Calculating low dimensional representations...\n",
            "28 / 45\n",
            "dca: Successfully preprocessed 10 genes and 1101 cells.\n",
            "dca: Calculating low dimensional representations...\n",
            "29 / 45\n",
            "dca: Successfully preprocessed 13 genes and 1101 cells.\n",
            "dca: Calculating low dimensional representations...\n",
            "30 / 45\n",
            "dca: Successfully preprocessed 12 genes and 1101 cells.\n",
            "dca: Calculating low dimensional representations...\n",
            "31 / 45\n",
            "dca: Successfully preprocessed 14 genes and 1101 cells.\n",
            "dca: Calculating low dimensional representations...\n",
            "32 / 45\n",
            "dca: Successfully preprocessed 131 genes and 1101 cells.\n",
            "dca: Calculating low dimensional representations...\n",
            "33 / 45\n",
            "dca: Successfully preprocessed 20 genes and 1101 cells.\n",
            "dca: Calculating low dimensional representations...\n",
            "34 / 45\n",
            "dca: Successfully preprocessed 19 genes and 1101 cells.\n",
            "dca: Calculating low dimensional representations...\n",
            "35 / 45\n",
            "dca: Successfully preprocessed 31 genes and 1101 cells.\n",
            "dca: Calculating low dimensional representations...\n",
            "36 / 45\n",
            "dca: Successfully preprocessed 47 genes and 1101 cells.\n",
            "dca: Calculating low dimensional representations...\n",
            "37 / 45\n",
            "dca: Successfully preprocessed 17 genes and 1101 cells.\n",
            "dca: Calculating low dimensional representations...\n",
            "38 / 45\n",
            "dca: Successfully preprocessed 52 genes and 1101 cells.\n",
            "dca: Calculating low dimensional representations...\n",
            "39 / 45\n",
            "dca: Successfully preprocessed 16 genes and 1101 cells.\n",
            "dca: Calculating low dimensional representations...\n",
            "40 / 45\n",
            "dca: Successfully preprocessed 11 genes and 1101 cells.\n",
            "dca: Calculating low dimensional representations...\n",
            "41 / 45\n",
            "dca: Successfully preprocessed 19 genes and 1101 cells.\n",
            "dca: Calculating low dimensional representations...\n",
            "42 / 45\n",
            "dca: Successfully preprocessed 13 genes and 1101 cells.\n",
            "dca: Calculating low dimensional representations...\n",
            "43 / 45\n",
            "dca: Successfully preprocessed 15 genes and 1101 cells.\n",
            "dca: Calculating low dimensional representations...\n",
            "44 / 45\n",
            "dca: Successfully preprocessed 10 genes and 1101 cells.\n",
            "dca: Calculating low dimensional representations...\n",
            "45 / 45\n",
            "dca: Successfully preprocessed 31 genes and 1101 cells.\n",
            "dca: Calculating low dimensional representations...\n"
          ],
          "name": "stdout"
        },
        {
          "output_type": "execute_result",
          "data": {
            "text/plain": [
              "AnnData object with n_obs × n_vars = 1101 × 4697\n",
              "    obs: 'orig.ident', 'nCount_RNA', 'nFeature_RNA', 'percent.mito', 'ID', 'sample', 'sample_new', 'group', 'group1', 'disease', 'nCoV_mean', 'nFeature_RNA_low', 'nFeature_RNA_high', 'before', 'filter', 'integrated_snn_res.1.2', 'seurat_clusters', 'idt', 'hasnCoV', 'cluster', 'integrated_snn_res.0.8', 'celltype', 'nCount_SCT', 'nFeature_SCT', 'sig.score', 'original_group', 'cell_type', 'filter_outlier', 'RNA_snn_res.0.6', 'SCT_snn_res.0.6', 'percent.mt', 'naive.markers', 'effector.markers', 'naive.no.sell.markers', 'new_cell_type', 'slingshot_pseudotime'\n",
              "    var: 'n_counts'"
            ]
          },
          "metadata": {
            "tags": []
          },
          "execution_count": 39
        }
      ]
    },
    {
      "cell_type": "code",
      "metadata": {
        "id": "WPO7WGl_UZDD",
        "colab": {
          "base_uri": "https://localhost:8080/",
          "height": 641
        },
        "outputId": "da70d08b-a560-4bea-fac1-0d20bbc6ca4f"
      },
      "source": [
        "rank_plot_1(result=res_tf,number=5)"
      ],
      "execution_count": null,
      "outputs": [
        {
          "output_type": "display_data",
          "data": {
            "image/png": "[encoded data removed]",
            "text/plain": [
              "<Figure size 720x720 with 1 Axes>"
            ]
          },
          "metadata": {
            "tags": [],
            "needs_background": "light"
          }
        },
        {
          "output_type": "stream",
          "text": [
            "Top_TF : ['USF1', 'NFKB1', 'SP1', 'MYC', 'RELA']\n"
          ],
          "name": "stdout"
        }
      ]
    },
    {
      "cell_type": "code",
      "metadata": {
        "id": "epojzwYTTf3L",
        "colab": {
          "base_uri": "https://localhost:8080/",
          "height": 657
        },
        "outputId": "51c0a0c2-e26d-4d0b-9603-8cc0db0906fb"
      },
      "source": [
        "dv.rank_plot(result=res_tf)"
      ],
      "execution_count": null,
      "outputs": [
        {
          "output_type": "display_data",
          "data": {
            "image/png": "[encoded data removed]",
            "text/plain": [
              "<Figure size 720x720 with 1 Axes>"
            ]
          },
          "metadata": {
            "tags": [],
            "needs_background": "light"
          }
        },
        {
          "output_type": "stream",
          "text": [
            "Top_TF : ['USF1', 'NFKB1', 'SP1', 'MYC', 'RELA']\n",
            "Worse_TF : ['TFAP2A', 'CREB1', 'STAT3', 'BCL6', 'WT1']\n"
          ],
          "name": "stdout"
        }
      ]
    },
    {
      "cell_type": "markdown",
      "metadata": {
        "id": "Ul5SyfjDUZDD"
      },
      "source": [
        "Next, we visualize the data manifold of the HALLMARK_INTERFERON_GAMMA_RESPONSE gene set. We can see a clear separation between stimulated and unstimulated cells."
      ]
    },
    {
      "cell_type": "code",
      "metadata": {
        "id": "Nu7njw6Fd8EA",
        "colab": {
          "base_uri": "https://localhost:8080/",
          "height": 281
        },
        "outputId": "a82dc8f7-c7d3-400d-eb83-541a0b57006e"
      },
      "source": [
        "df_tf = pd.DataFrame({\"TP\" : res_tf[2], \"RS\" : res_tf[1]}).sort_values(\"RS\", ascending=False)\n",
        "df_tf.to_csv(\"Resident_T-TF.csv\")\n",
        "df_tf.RS.hist()"
      ],
      "execution_count": null,
      "outputs": [
        {
          "output_type": "execute_result",
          "data": {
            "text/plain": [
              "<matplotlib.axes._subplots.AxesSubplot at 0x7fee8245a0d0>"
            ]
          },
          "metadata": {
            "tags": []
          },
          "execution_count": 42
        },
        {
          "output_type": "display_data",
          "data": {
            "image/png": "[encoded data removed]",
            "text/plain": [
              "<Figure size 432x288 with 1 Axes>"
            ]
          },
          "metadata": {
            "tags": [],
            "needs_background": "light"
          }
        }
      ]
    }
  ]
}